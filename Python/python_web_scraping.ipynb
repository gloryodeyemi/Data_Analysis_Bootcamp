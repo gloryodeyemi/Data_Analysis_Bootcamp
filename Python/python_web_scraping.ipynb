{
 "cells": [
  {
   "cell_type": "markdown",
   "id": "61d43071",
   "metadata": {},
   "source": [
    "# BeautifulSoup and Requests"
   ]
  },
  {
   "cell_type": "code",
   "execution_count": 1,
   "id": "54c19f1a",
   "metadata": {},
   "outputs": [],
   "source": [
    "from bs4 import BeautifulSoup\n",
    "import requests"
   ]
  },
  {
   "cell_type": "code",
   "execution_count": 2,
   "id": "c9c15a69",
   "metadata": {},
   "outputs": [],
   "source": [
    "url = \"https://www.scrapethissite.com/pages/forms/\""
   ]
  },
  {
   "cell_type": "code",
   "execution_count": 4,
   "id": "a0883436",
   "metadata": {},
   "outputs": [],
   "source": [
    "page = requests.get(url)"
   ]
  },
  {
   "cell_type": "code",
   "execution_count": 6,
   "id": "8947dea0",
   "metadata": {},
   "outputs": [],
   "source": [
    "soup = BeautifulSoup(page.text, 'html')"
   ]
  },
  {
   "cell_type": "code",
   "execution_count": 10,
   "id": "8dd03953",
   "metadata": {},
   "outputs": [],
   "source": [
    "# print(soup)"
   ]
  },
  {
   "cell_type": "code",
   "execution_count": 9,
   "id": "2cee1e2b",
   "metadata": {},
   "outputs": [],
   "source": [
    "# print(soup.prettify())"
   ]
  },
  {
   "cell_type": "markdown",
   "id": "304b2ae9",
   "metadata": {},
   "source": [
    "# Find and Find_all"
   ]
  },
  {
   "cell_type": "code",
   "execution_count": 11,
   "id": "8e8c0dd8",
   "metadata": {},
   "outputs": [
    {
     "data": {
      "text/plain": [
       "<div class=\"container\">\n",
       "<div class=\"col-md-12\">\n",
       "<ul class=\"nav nav-tabs\">\n",
       "<li id=\"nav-homepage\">\n",
       "<a class=\"nav-link hidden-sm hidden-xs\" href=\"/\">\n",
       "<img id=\"nav-logo\" src=\"/static/images/scraper-icon.png\"/>\n",
       "                                Scrape This Site\n",
       "                            </a>\n",
       "</li>\n",
       "<li id=\"nav-sandbox\">\n",
       "<a class=\"nav-link\" href=\"/pages/\">\n",
       "<i class=\"glyphicon glyphicon-console hidden-sm hidden-xs\"></i>\n",
       "                                Sandbox\n",
       "                            </a>\n",
       "</li>\n",
       "<li id=\"nav-lessons\">\n",
       "<a class=\"nav-link\" href=\"/lessons/\">\n",
       "<i class=\"glyphicon glyphicon-education hidden-sm hidden-xs\"></i>\n",
       "                                Lessons\n",
       "                            </a>\n",
       "</li>\n",
       "<li id=\"nav-faq\">\n",
       "<a class=\"nav-link\" href=\"/faq/\">\n",
       "<i class=\"glyphicon glyphicon-flag hidden-sm hidden-xs\"></i>\n",
       "                                FAQ\n",
       "                            </a>\n",
       "</li>\n",
       "<li class=\"pull-right\" id=\"nav-login\">\n",
       "<a class=\"nav-link\" href=\"/login/\">\n",
       "                                Login\n",
       "                            </a>\n",
       "</li>\n",
       "</ul>\n",
       "</div>\n",
       "</div>"
      ]
     },
     "execution_count": 11,
     "metadata": {},
     "output_type": "execute_result"
    }
   ],
   "source": [
    "soup.find('div')"
   ]
  },
  {
   "cell_type": "code",
   "execution_count": 15,
   "id": "956a3722",
   "metadata": {},
   "outputs": [
    {
     "data": {
      "text/plain": [
       "[<p class=\"lead\">\n",
       "                             Browse through a database of NHL team stats since 1990. Practice building a scraper that handles common website interface components.\n",
       "                             Take a look at how pagination and search elements change the URL as your browse. Build a web scraper that can conduct searches and paginate through the results.\n",
       "                         </p>]"
      ]
     },
     "execution_count": 15,
     "metadata": {},
     "output_type": "execute_result"
    }
   ],
   "source": [
    "soup.find_all('p', class_='lead')"
   ]
  },
  {
   "cell_type": "code",
   "execution_count": 17,
   "id": "988eef26",
   "metadata": {},
   "outputs": [
    {
     "data": {
      "text/plain": [
       "'Browse through a database of NHL team stats since 1990. Practice building a scraper that handles common website interface components.\\n                            Take a look at how pagination and search elements change the URL as your browse. Build a web scraper that can conduct searches and paginate through the results.'"
      ]
     },
     "execution_count": 17,
     "metadata": {},
     "output_type": "execute_result"
    }
   ],
   "source": [
    "soup.find('p', class_='lead').text.strip()"
   ]
  },
  {
   "cell_type": "code",
   "execution_count": 18,
   "id": "e78075a2",
   "metadata": {},
   "outputs": [
    {
     "data": {
      "text/plain": [
       "[<th>\n",
       "                             Team Name\n",
       "                         </th>,\n",
       " <th>\n",
       "                             Year\n",
       "                         </th>,\n",
       " <th>\n",
       "                             Wins\n",
       "                         </th>,\n",
       " <th>\n",
       "                             Losses\n",
       "                         </th>,\n",
       " <th>\n",
       "                             OT Losses\n",
       "                         </th>,\n",
       " <th>\n",
       "                             Win %\n",
       "                         </th>,\n",
       " <th>\n",
       "                             Goals For (GF)\n",
       "                         </th>,\n",
       " <th>\n",
       "                             Goals Against (GA)\n",
       "                         </th>,\n",
       " <th>\n",
       "                             + / -\n",
       "                         </th>]"
      ]
     },
     "execution_count": 18,
     "metadata": {},
     "output_type": "execute_result"
    }
   ],
   "source": [
    "soup.find_all('th')"
   ]
  },
  {
   "cell_type": "code",
   "execution_count": 21,
   "id": "1629e5dc",
   "metadata": {},
   "outputs": [
    {
     "data": {
      "text/plain": [
       "'Team Name'"
      ]
     },
     "execution_count": 21,
     "metadata": {},
     "output_type": "execute_result"
    }
   ],
   "source": [
    "soup.find('th').text.strip()"
   ]
  }
 ],
 "metadata": {
  "kernelspec": {
   "display_name": "Python 3 (ipykernel)",
   "language": "python",
   "name": "python3"
  },
  "language_info": {
   "codemirror_mode": {
    "name": "ipython",
    "version": 3
   },
   "file_extension": ".py",
   "mimetype": "text/x-python",
   "name": "python",
   "nbconvert_exporter": "python",
   "pygments_lexer": "ipython3",
   "version": "3.9.13"
  }
 },
 "nbformat": 4,
 "nbformat_minor": 5
}
