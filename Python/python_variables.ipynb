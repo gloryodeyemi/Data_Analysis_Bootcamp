{
 "cells": [
  {
   "cell_type": "markdown",
   "id": "8602099d",
   "metadata": {},
   "source": [
    "# Variables"
   ]
  },
  {
   "cell_type": "code",
   "execution_count": 1,
   "id": "32dc7c05",
   "metadata": {},
   "outputs": [
    {
     "name": "stdout",
     "output_type": "stream",
     "text": [
      "22\n"
     ]
    }
   ],
   "source": [
    "x = 22\n",
    "print(x)"
   ]
  },
  {
   "cell_type": "code",
   "execution_count": 3,
   "id": "1166b34d",
   "metadata": {},
   "outputs": [
    {
     "data": {
      "text/plain": [
       "int"
      ]
     },
     "execution_count": 3,
     "metadata": {},
     "output_type": "execute_result"
    }
   ],
   "source": [
    "type(x)"
   ]
  },
  {
   "cell_type": "code",
   "execution_count": 4,
   "id": "d2640889",
   "metadata": {},
   "outputs": [
    {
     "name": "stdout",
     "output_type": "stream",
     "text": [
      "Mint Chocolate Chip\n"
     ]
    }
   ],
   "source": [
    "y = \"Mint Chocolate Chip\"\n",
    "print(y)"
   ]
  },
  {
   "cell_type": "code",
   "execution_count": 5,
   "id": "1c3f8108",
   "metadata": {},
   "outputs": [
    {
     "data": {
      "text/plain": [
       "str"
      ]
     },
     "execution_count": 5,
     "metadata": {},
     "output_type": "execute_result"
    }
   ],
   "source": [
    "type(y)"
   ]
  },
  {
   "cell_type": "code",
   "execution_count": 7,
   "id": "2be65e58",
   "metadata": {},
   "outputs": [
    {
     "name": "stdout",
     "output_type": "stream",
     "text": [
      "Chocolate\n"
     ]
    }
   ],
   "source": [
    "y = \"Chocolate\"\n",
    "Y = \"Mint Chocolate Chip\"\n",
    "print(y)"
   ]
  },
  {
   "cell_type": "code",
   "execution_count": 8,
   "id": "0cff3e0e",
   "metadata": {},
   "outputs": [
    {
     "name": "stdout",
     "output_type": "stream",
     "text": [
      "Mint Chocolate Chip\n"
     ]
    }
   ],
   "source": [
    "print(Y)"
   ]
  },
  {
   "cell_type": "code",
   "execution_count": 10,
   "id": "412b1591",
   "metadata": {},
   "outputs": [
    {
     "name": "stdout",
     "output_type": "stream",
     "text": [
      "Chocolate\n",
      "Vanilla\n",
      "Rocky Road\n"
     ]
    }
   ],
   "source": [
    "x,y,z = \"Chocolate\", \"Vanilla\", \"Rocky Road\"\n",
    "\n",
    "print(x)\n",
    "print(y)\n",
    "print(z)"
   ]
  },
  {
   "cell_type": "code",
   "execution_count": 11,
   "id": "8da13707",
   "metadata": {},
   "outputs": [
    {
     "name": "stdout",
     "output_type": "stream",
     "text": [
      "Root Beer Float\n",
      "Root Beer Float\n",
      "Root Beer Float\n"
     ]
    }
   ],
   "source": [
    "x = y = z = \"Root Beer Float\"\n",
    "\n",
    "print(x)\n",
    "print(y)\n",
    "print(z)"
   ]
  },
  {
   "cell_type": "code",
   "execution_count": 12,
   "id": "5e24ab41",
   "metadata": {},
   "outputs": [
    {
     "name": "stdout",
     "output_type": "stream",
     "text": [
      "Chocolate\n",
      "Vanilla\n",
      "Rocky Road\n"
     ]
    }
   ],
   "source": [
    "ice_cream = [\"Chocolate\", \"Vanilla\", \"Rocky Road\"]\n",
    "\n",
    "x,y,z = ice_cream\n",
    "\n",
    "print(x)\n",
    "print(y)\n",
    "print(z)"
   ]
  },
  {
   "cell_type": "code",
   "execution_count": null,
   "id": "377c6d9e",
   "metadata": {},
   "outputs": [],
   "source": [
    "# Camel case\n",
    "testVariableCase = \"Vanilla Swirl\""
   ]
  },
  {
   "cell_type": "code",
   "execution_count": null,
   "id": "70d24a44",
   "metadata": {},
   "outputs": [],
   "source": [
    "# Pascal case\n",
    "TestVariableCase = \"Vanilla Swirl\""
   ]
  },
  {
   "cell_type": "code",
   "execution_count": 13,
   "id": "ac23276e",
   "metadata": {},
   "outputs": [],
   "source": [
    "# Snake case\n",
    "test_variable_case = \"Vanilla Swirl\""
   ]
  },
  {
   "cell_type": "code",
   "execution_count": 14,
   "id": "5fb8da79",
   "metadata": {},
   "outputs": [],
   "source": [
    "# Acceptable variable names\n",
    "testvar = \"Vanilla Swirl\"\n",
    "test_var = \"Vanilla Swirl\"\n",
    "_test_var = \"Vanilla Swirl\"\n",
    "testVar = \"Vanilla Swirl\"\n",
    "TestVar = \"Vanilla Swirl\"\n",
    "testVar2 = \"Vanilla Swirl\""
   ]
  },
  {
   "cell_type": "code",
   "execution_count": 15,
   "id": "d1c50a2c",
   "metadata": {},
   "outputs": [
    {
     "ename": "SyntaxError",
     "evalue": "invalid syntax (1143119827.py, line 2)",
     "output_type": "error",
     "traceback": [
      "\u001b[0;36m  File \u001b[0;32m\"/var/folders/ly/rf87jvlx4d93p4zbd_bs4l5c0000gn/T/ipykernel_42304/1143119827.py\"\u001b[0;36m, line \u001b[0;32m2\u001b[0m\n\u001b[0;31m    2testVar = \"Vanilla Swirl\"\u001b[0m\n\u001b[0m     ^\u001b[0m\n\u001b[0;31mSyntaxError\u001b[0m\u001b[0;31m:\u001b[0m invalid syntax\n"
     ]
    }
   ],
   "source": [
    "# Unacceptable\n",
    "2testVar = \"Vanilla Swirl\"\n",
    "test-var2 = \"Vanilla Swirl\"\n",
    "test Var2 = \"Vanilla Swirl\"\n",
    "test,Var2 = \"Vanilla Swirl\""
   ]
  },
  {
   "cell_type": "code",
   "execution_count": 16,
   "id": "314f153c",
   "metadata": {},
   "outputs": [
    {
     "name": "stdout",
     "output_type": "stream",
     "text": [
      "Ice cream is m favorite.\n"
     ]
    }
   ],
   "source": [
    "x = \"Ice cream is m favorite\" + '.'\n",
    "print(x)"
   ]
  },
  {
   "cell_type": "code",
   "execution_count": 17,
   "id": "a1a5659b",
   "metadata": {},
   "outputs": [
    {
     "ename": "TypeError",
     "evalue": "can only concatenate str (not \"int\") to str",
     "output_type": "error",
     "traceback": [
      "\u001b[0;31m---------------------------------------------------------------------------\u001b[0m",
      "\u001b[0;31mTypeError\u001b[0m                                 Traceback (most recent call last)",
      "\u001b[0;32m/var/folders/ly/rf87jvlx4d93p4zbd_bs4l5c0000gn/T/ipykernel_42304/11547772.py\u001b[0m in \u001b[0;36m<module>\u001b[0;34m\u001b[0m\n\u001b[0;32m----> 1\u001b[0;31m \u001b[0mx\u001b[0m \u001b[0;34m=\u001b[0m \u001b[0;34m\"Ice cream is m favorite\"\u001b[0m \u001b[0;34m+\u001b[0m \u001b[0;36m2\u001b[0m\u001b[0;34m\u001b[0m\u001b[0;34m\u001b[0m\u001b[0m\n\u001b[0m\u001b[1;32m      2\u001b[0m \u001b[0mprint\u001b[0m\u001b[0;34m(\u001b[0m\u001b[0mx\u001b[0m\u001b[0;34m)\u001b[0m\u001b[0;34m\u001b[0m\u001b[0;34m\u001b[0m\u001b[0m\n",
      "\u001b[0;31mTypeError\u001b[0m: can only concatenate str (not \"int\") to str"
     ]
    }
   ],
   "source": [
    "x = \"Ice cream is m favorite\" + 2\n",
    "print(x)"
   ]
  },
  {
   "cell_type": "code",
   "execution_count": 18,
   "id": "938bb130",
   "metadata": {},
   "outputs": [
    {
     "name": "stdout",
     "output_type": "stream",
     "text": [
      "5\n"
     ]
    }
   ],
   "source": [
    "y = 3 + 2\n",
    "print(y)"
   ]
  },
  {
   "cell_type": "code",
   "execution_count": 19,
   "id": "0eae372f",
   "metadata": {},
   "outputs": [
    {
     "name": "stdout",
     "output_type": "stream",
     "text": [
      "Ice cream is my favorite.\n"
     ]
    }
   ],
   "source": [
    "x = \"Ice cream\"\n",
    "y = \" is\"\n",
    "z = \" my favorite.\"\n",
    "print(x + y + z)"
   ]
  },
  {
   "cell_type": "code",
   "execution_count": 20,
   "id": "b3df7fcb",
   "metadata": {},
   "outputs": [
    {
     "name": "stdout",
     "output_type": "stream",
     "text": [
      "6\n"
     ]
    }
   ],
   "source": [
    "x = 1\n",
    "y = 2\n",
    "z = 3\n",
    "print(x + y + z)"
   ]
  }
 ],
 "metadata": {
  "kernelspec": {
   "display_name": "Python 3 (ipykernel)",
   "language": "python",
   "name": "python3"
  },
  "language_info": {
   "codemirror_mode": {
    "name": "ipython",
    "version": 3
   },
   "file_extension": ".py",
   "mimetype": "text/x-python",
   "name": "python",
   "nbconvert_exporter": "python",
   "pygments_lexer": "ipython3",
   "version": "3.9.13"
  }
 },
 "nbformat": 4,
 "nbformat_minor": 5
}
