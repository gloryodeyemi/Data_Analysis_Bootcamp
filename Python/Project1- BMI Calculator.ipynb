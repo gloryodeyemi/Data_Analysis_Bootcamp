{
 "cells": [
  {
   "cell_type": "markdown",
   "id": "611b64de",
   "metadata": {},
   "source": [
    "# BMI Calculator"
   ]
  },
  {
   "cell_type": "code",
   "execution_count": 13,
   "id": "9691f96d",
   "metadata": {},
   "outputs": [
    {
     "name": "stdout",
     "output_type": "stream",
     "text": [
      "Enter your name: Glory\n",
      "Enter your weight in pounds: 0\n",
      "Enter your height in pounds: 12\n",
      "Enter valid inputs!\n",
      "\n",
      "Enter your name: glory\n",
      "Enter your weight in pounds: 121\n",
      "Enter your height in pounds: 67\n",
      "Glory, your BMI is 18.95. You are normal weight.\n"
     ]
    }
   ],
   "source": [
    "def get_data():\n",
    "    name = input(\"Enter your name: \")\n",
    "    weight = float(input(\"Enter your weight in pounds: \"))\n",
    "    height = float(input(\"Enter your height in pounds: \"))\n",
    "    BMI = round((weight * 703) / (height * height), 2)\n",
    "    return BMI\n",
    "\n",
    "check = True\n",
    "\n",
    "while check:\n",
    "    BMI = get_data()\n",
    "    if BMI > 0:\n",
    "        if BMI < 18.5:\n",
    "            print(name + \", your BMI is \" + str(BMI) + \". You are underweight.\")\n",
    "        elif BMI <= 24.9:\n",
    "            print(name + \", your BMI is \" + str(BMI) + \". You are normal weight.\")\n",
    "        elif BMI <= 29.9:\n",
    "            print(name + \", your BMI is \" + str(BMI) + \". You are overweight.\")\n",
    "        elif BMI <= 34.9:\n",
    "            print(name + \", your BMI is \" + str(BMI) + \". You are obese.\")\n",
    "        elif BMI <= 39.9:\n",
    "            print(name + \", your BMI is \" + str(BMI) + \". You are severely obese.\")\n",
    "        else:\n",
    "            print(name + \", your BMI is \" + str(BMI) + \". You are morbidly obese.\")\n",
    "        check = False\n",
    "    else:\n",
    "        print(\"Enter valid inputs!\\n\")       "
   ]
  }
 ],
 "metadata": {
  "kernelspec": {
   "display_name": "Python 3 (ipykernel)",
   "language": "python",
   "name": "python3"
  },
  "language_info": {
   "codemirror_mode": {
    "name": "ipython",
    "version": 3
   },
   "file_extension": ".py",
   "mimetype": "text/x-python",
   "name": "python",
   "nbconvert_exporter": "python",
   "pygments_lexer": "ipython3",
   "version": "3.9.13"
  }
 },
 "nbformat": 4,
 "nbformat_minor": 5
}
