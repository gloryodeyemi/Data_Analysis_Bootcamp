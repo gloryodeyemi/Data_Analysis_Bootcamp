{
 "cells": [
  {
   "cell_type": "code",
   "execution_count": 1,
   "id": "d364231c",
   "metadata": {},
   "outputs": [
    {
     "name": "stdout",
     "output_type": "stream",
     "text": [
      "Snapchat for Web 2023-8-19 at 4_58_04 AM.jpeg moved\n",
      "IMG_9445.jpg moved\n",
      "Glory_Odeyemi.png moved\n",
      "week2.jpg moved\n",
      "110090586.jpeg moved\n",
      "week1.jpg moved\n",
      "week6.jpg moved\n",
      "Payment Receipt.jpeg moved\n"
     ]
    }
   ],
   "source": [
    "import os, shutil\n",
    "\n",
    "path = r\"/Users/new/Downloads/Docs/\"\n",
    "file_names = os.listdir(path)\n",
    "folder_names = ['pdf files', 'image files', 'zip files']\n",
    "\n",
    "# Check if folder exists and create them if it doesn't\n",
    "for ind in range(len(folder_names)): \n",
    "    if not os.path.exists(path + folder_names[ind]):\n",
    "        os.makedirs(path + folder_names[ind])\n",
    "        \n",
    "# Move the files\n",
    "for file in file_names:\n",
    "    if '.pdf' in file and not os.path.exists(path + \"pdf files/\" + file):\n",
    "        shutil.move(path + file, path + \"pdf files/\" + file) \n",
    "        print(file + \" moved\")\n",
    "    elif ('.png' in file or '.jpg' in file or '.jpeg' in file) and not os.path.exists(path + \"image files/\" + file):\n",
    "        shutil.move(path + file, path + \"image files/\" + file)\n",
    "        print(file + \" moved\")\n",
    "    elif '.zip' in file and not os.path.exists(path + \"zip files/\" + file):\n",
    "        shutil.move(path + file, path + \"zip files/\" + file)\n",
    "        print(file + \" moved\")"
   ]
  }
 ],
 "metadata": {
  "kernelspec": {
   "display_name": "Python 3 (ipykernel)",
   "language": "python",
   "name": "python3"
  },
  "language_info": {
   "codemirror_mode": {
    "name": "ipython",
    "version": 3
   },
   "file_extension": ".py",
   "mimetype": "text/x-python",
   "name": "python",
   "nbconvert_exporter": "python",
   "pygments_lexer": "ipython3",
   "version": "3.9.13"
  }
 },
 "nbformat": 4,
 "nbformat_minor": 5
}
