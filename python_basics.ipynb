{
 "cells": [
  {
   "cell_type": "markdown",
   "id": "3369bd98",
   "metadata": {},
   "source": [
    "## Variables\n",
    "\n",
    "1. Create a variable called break and assign it a value 5. See what happens and find out the reason behind the behavior that you see.\n",
    "\n",
    "2. Create two variables. One to store your birth year and another one to store current year. Now calculate your age using these two variables\n",
    "\n",
    "3. Store your first, middle and last name in three different variables and then print your full name using these variables\n",
    "\n",
    "4. Answer which of these are invalid variable names: _nation 1record record1 record_one record-one record^one continue"
   ]
  },
  {
   "cell_type": "code",
   "execution_count": 1,
   "id": "aaea19af",
   "metadata": {},
   "outputs": [
    {
     "ename": "SyntaxError",
     "evalue": "invalid syntax (2709188746.py, line 1)",
     "output_type": "error",
     "traceback": [
      "\u001b[0;36m  File \u001b[0;32m\"/var/folders/ly/rf87jvlx4d93p4zbd_bs4l5c0000gn/T/ipykernel_35464/2709188746.py\"\u001b[0;36m, line \u001b[0;32m1\u001b[0m\n\u001b[0;31m    break = 5\u001b[0m\n\u001b[0m          ^\u001b[0m\n\u001b[0;31mSyntaxError\u001b[0m\u001b[0;31m:\u001b[0m invalid syntax\n"
     ]
    }
   ],
   "source": [
    "break = 5"
   ]
  },
  {
   "cell_type": "markdown",
   "id": "ccb4dd24",
   "metadata": {},
   "source": [
    "It gives a syntax error because ***break*** is a keyword in Python and cannot be used as a variable name."
   ]
  },
  {
   "cell_type": "code",
   "execution_count": 2,
   "id": "ccb21e43",
   "metadata": {},
   "outputs": [
    {
     "data": {
      "text/plain": [
       "24"
      ]
     },
     "execution_count": 2,
     "metadata": {},
     "output_type": "execute_result"
    }
   ],
   "source": [
    "birth_year = 1999\n",
    "current_year = 2023\n",
    "\n",
    "my_age = current_year - birth_year\n",
    "my_age"
   ]
  },
  {
   "cell_type": "code",
   "execution_count": 3,
   "id": "82aee645",
   "metadata": {},
   "outputs": [
    {
     "name": "stdout",
     "output_type": "stream",
     "text": [
      "My name is Glory Adenike Odeyemi.\n"
     ]
    }
   ],
   "source": [
    "first_name = \"Glory\"\n",
    "middle_name = \"Adenike\"\n",
    "last_name = \"Odeyemi\"\n",
    "\n",
    "print(\"My name is \" + first_name + \" \" + middle_name + \" \" + last_name + \".\")"
   ]
  },
  {
   "cell_type": "code",
   "execution_count": 4,
   "id": "fe9bee0b",
   "metadata": {},
   "outputs": [],
   "source": [
    "_nation = \"test\""
   ]
  },
  {
   "cell_type": "code",
   "execution_count": 5,
   "id": "ce4f1b73",
   "metadata": {},
   "outputs": [
    {
     "ename": "SyntaxError",
     "evalue": "invalid syntax (1379113486.py, line 1)",
     "output_type": "error",
     "traceback": [
      "\u001b[0;36m  File \u001b[0;32m\"/var/folders/ly/rf87jvlx4d93p4zbd_bs4l5c0000gn/T/ipykernel_35464/1379113486.py\"\u001b[0;36m, line \u001b[0;32m1\u001b[0m\n\u001b[0;31m    1record = \"test\"\u001b[0m\n\u001b[0m     ^\u001b[0m\n\u001b[0;31mSyntaxError\u001b[0m\u001b[0;31m:\u001b[0m invalid syntax\n"
     ]
    }
   ],
   "source": [
    "1record = \"test\""
   ]
  },
  {
   "cell_type": "code",
   "execution_count": 6,
   "id": "f7cb6a66",
   "metadata": {},
   "outputs": [],
   "source": [
    "record1 = \"test\""
   ]
  },
  {
   "cell_type": "code",
   "execution_count": 7,
   "id": "53dcb65a",
   "metadata": {},
   "outputs": [],
   "source": [
    "record_one = \"test\""
   ]
  },
  {
   "cell_type": "code",
   "execution_count": 8,
   "id": "6c04e08c",
   "metadata": {},
   "outputs": [
    {
     "ename": "SyntaxError",
     "evalue": "cannot assign to operator (3223843541.py, line 1)",
     "output_type": "error",
     "traceback": [
      "\u001b[0;36m  File \u001b[0;32m\"/var/folders/ly/rf87jvlx4d93p4zbd_bs4l5c0000gn/T/ipykernel_35464/3223843541.py\"\u001b[0;36m, line \u001b[0;32m1\u001b[0m\n\u001b[0;31m    record-one = \"test\"\u001b[0m\n\u001b[0m    ^\u001b[0m\n\u001b[0;31mSyntaxError\u001b[0m\u001b[0;31m:\u001b[0m cannot assign to operator\n"
     ]
    }
   ],
   "source": [
    "record-one = \"test\""
   ]
  },
  {
   "cell_type": "code",
   "execution_count": 9,
   "id": "b2dbb5f7",
   "metadata": {},
   "outputs": [
    {
     "ename": "SyntaxError",
     "evalue": "cannot assign to operator (921263059.py, line 1)",
     "output_type": "error",
     "traceback": [
      "\u001b[0;36m  File \u001b[0;32m\"/var/folders/ly/rf87jvlx4d93p4zbd_bs4l5c0000gn/T/ipykernel_35464/921263059.py\"\u001b[0;36m, line \u001b[0;32m1\u001b[0m\n\u001b[0;31m    record^one = \"test\"\u001b[0m\n\u001b[0m    ^\u001b[0m\n\u001b[0;31mSyntaxError\u001b[0m\u001b[0;31m:\u001b[0m cannot assign to operator\n"
     ]
    }
   ],
   "source": [
    "record^one = \"test\""
   ]
  },
  {
   "cell_type": "code",
   "execution_count": 10,
   "id": "bd09d6d8",
   "metadata": {},
   "outputs": [
    {
     "ename": "SyntaxError",
     "evalue": "invalid syntax (2114305636.py, line 1)",
     "output_type": "error",
     "traceback": [
      "\u001b[0;36m  File \u001b[0;32m\"/var/folders/ly/rf87jvlx4d93p4zbd_bs4l5c0000gn/T/ipykernel_35464/2114305636.py\"\u001b[0;36m, line \u001b[0;32m1\u001b[0m\n\u001b[0;31m    continue = \"test\"\u001b[0m\n\u001b[0m             ^\u001b[0m\n\u001b[0;31mSyntaxError\u001b[0m\u001b[0;31m:\u001b[0m invalid syntax\n"
     ]
    }
   ],
   "source": [
    "continue = \"test\""
   ]
  },
  {
   "cell_type": "markdown",
   "id": "2e303ac6",
   "metadata": {},
   "source": [
    "***_nation, record1, and record_one*** are valid variable names, while, ***1record, record-one, record^one, and continue*** are invalid."
   ]
  },
  {
   "cell_type": "markdown",
   "id": "f26a063a",
   "metadata": {},
   "source": [
    "## Numbers\n",
    "\n",
    "1. You have a football field that is 92 meter long and 48.8 meter wide. Find out total area using python and print it.\n",
    "2. You bought 9 packets of potato chips from a store. Each packet costs 1.49 dollar and you gave shopkeeper 20 dollar. Find out using python, how many dollars is the shopkeeper going to give you back?\n",
    "3. You want to replace tiles in your bathroom which is exactly square and 5.5 feet is its length. If tiles cost 500 rs per square feet, how much will be the total cost to replace all tiles. Calculate and print the cost using python (Hint: Use power operator ** to find area of a square)\n",
    "4. Print binary representation of number 17"
   ]
  },
  {
   "cell_type": "code",
   "execution_count": 15,
   "id": "50b1f113",
   "metadata": {},
   "outputs": [
    {
     "name": "stdout",
     "output_type": "stream",
     "text": [
      "The total area of the football field is 4489.599999999999.\n"
     ]
    }
   ],
   "source": [
    "length = 92\n",
    "width = 48.8\n",
    "\n",
    "print(f\"The total area of the football field is {length * width}.\")"
   ]
  },
  {
   "cell_type": "code",
   "execution_count": 19,
   "id": "96ecc014",
   "metadata": {},
   "outputs": [
    {
     "name": "stdout",
     "output_type": "stream",
     "text": [
      "Total cost of packet bought is $13.41 and the change from shopkeeper is $6.59.\n"
     ]
    }
   ],
   "source": [
    "num_of_packets = 9\n",
    "price_of_1_packet = 1.49\n",
    "total_amount_paid = 20\n",
    "\n",
    "total_cost = num_of_packets * price_of_1_packet\n",
    "\n",
    "print(f\"Total cost of packet bought is ${total_cost} and the change from shopkeeper is ${total_amount_paid - total_cost}.\")"
   ]
  },
  {
   "cell_type": "code",
   "execution_count": 22,
   "id": "e9475614",
   "metadata": {},
   "outputs": [
    {
     "name": "stdout",
     "output_type": "stream",
     "text": [
      "Area of bathroom tiles = 30.25\n",
      "Total cost to replace tiles = 15125.0 rs\n"
     ]
    }
   ],
   "source": [
    "length = 5.5\n",
    "area = length ** 2\n",
    "ind_cost = 500\n",
    "\n",
    "print(f\"Area of bathroom tiles = {area}\")\n",
    "print(f\"Total cost to replace tiles = {area * ind_cost} rs\")"
   ]
  },
  {
   "cell_type": "code",
   "execution_count": 23,
   "id": "a1bf5a4a",
   "metadata": {},
   "outputs": [
    {
     "name": "stdout",
     "output_type": "stream",
     "text": [
      "The binary representation of the number 17 is 0b10001.\n"
     ]
    }
   ],
   "source": [
    "print(f\"The binary representation of the number 17 is {bin(17)}.\")"
   ]
  },
  {
   "cell_type": "markdown",
   "id": "b7366ca1",
   "metadata": {},
   "source": [
    "## Strings\n",
    "\n",
    "1. Create 3 variables to store street, city and country, now create address variable to store entire address. Use two ways of creating this variable, one using + operator and the other using f-string. Now Print the address in such a way that the street, city and country prints in a separate line\n",
    "2. Create a variable to store the string \"Earth revolves around the sun\"\n",
    "* Print \"revolves\" using slice operator\n",
    "* Print \"sun\" using negative index\n",
    "3. Create two variables to store how many fruits and vegetables you eat in a day. Now Print \"I eat x veggies and y fruits daily\" where x and y presents vegetables and fruits that you eat everyday. Use python f string for this.\n",
    "4. I have a string variable called s='maine 200 banana khaye'. This of course is a wrong statement, the correct statement is 'maine 10 samosa khaye'. Replace incorrect words in original strong with new ones and print the new string. Also try to do this in one line."
   ]
  },
  {
   "cell_type": "code",
   "execution_count": 14,
   "id": "e83ce564",
   "metadata": {},
   "outputs": [
    {
     "name": "stdout",
     "output_type": "stream",
     "text": [
      "123 Test street\n",
      "Lagos\n",
      "Nigeria\n",
      "---------------\n",
      "123 Test street\n",
      "Lagos\n",
      "Nigeria\n"
     ]
    }
   ],
   "source": [
    "street = \"123 Test street\"\n",
    "city = \"Lagos\"\n",
    "country = \"Nigeria\"\n",
    "\n",
    "address_concat = street + \"\\n\" + city + \"\\n\" + country\n",
    "address_f = f\"{street}\\n{city}\\n{country}\"\n",
    "\n",
    "print(address_concat)\n",
    "print(\"-\"*15)\n",
    "print(address_f)\n",
    "# print(\"-\"*32)\n",
    "# print(f\"Street: {street}\\nCity: {city}\\nCountry: {country}\")"
   ]
  },
  {
   "cell_type": "code",
   "execution_count": 8,
   "id": "5752964a",
   "metadata": {},
   "outputs": [
    {
     "name": "stdout",
     "output_type": "stream",
     "text": [
      "revolves\n",
      "sun\n"
     ]
    }
   ],
   "source": [
    "text = \"Earth revolves around the sun\"\n",
    "\n",
    "print(text[6:14])\n",
    "print(text[-3:])"
   ]
  },
  {
   "cell_type": "code",
   "execution_count": 9,
   "id": "a7d46f63",
   "metadata": {},
   "outputs": [
    {
     "name": "stdout",
     "output_type": "stream",
     "text": [
      "I eat 0 veggies and 2 fruits daily\n"
     ]
    }
   ],
   "source": [
    "fruits = 2\n",
    "vegetables = 0\n",
    "\n",
    "print(f\"I eat {vegetables} veggies and {fruits} fruits daily\")"
   ]
  },
  {
   "cell_type": "code",
   "execution_count": 16,
   "id": "899809ed",
   "metadata": {},
   "outputs": [
    {
     "name": "stdout",
     "output_type": "stream",
     "text": [
      "maine 10 samosa khaye\n"
     ]
    }
   ],
   "source": [
    "s='maine 200 banana khaye'\n",
    "\n",
    "print(s.replace('200', '10').replace('banana', 'samosa'))"
   ]
  },
  {
   "cell_type": "markdown",
   "id": "fa19cede",
   "metadata": {},
   "source": [
    "## Lists\n",
    "\n",
    "1. Let us say your expense for every month are listed below,\n",
    "\n",
    "    i. January - 2200\n",
    "\n",
    "    ii. February - 2350\n",
    "\n",
    "    iii. March - 2600\n",
    "\n",
    "    iv. April - 2130\n",
    "\n",
    "    v. May - 2190\n",
    "\n",
    "Create a list to store these monthly expenses and using that find out,\n",
    "\n",
    "* In Feb, how many dollars you spent extra compare to January?\n",
    "* Find out your total expense in first quarter (first three months) of the year.\n",
    "* Find out if you spent exactly 2000 dollars in any month\n",
    "* June month just finished and your expense is 1980 dollar. Add this item to our monthly expense list\n",
    "* You returned an item that you bought in a month of April and got a refund of 200$. Make a correction to your monthly expense list based on this\n",
    "\n",
    "2. You have a list of your favourite marvel super heros.\n",
    "\n",
    "    heros=['spider man','thor','hulk','iron man','captain america']\n",
    "\n",
    "Using this find out,\n",
    "\n",
    "* Length of the list\n",
    "* Add 'black panther' at the end of this list\n",
    "* You realize that you need to add 'black panther' after 'hulk',\n",
    "   so remove it from the list first and then add it after 'hulk'\n",
    "* Now you don't like thor and hulk because they get angry easily :)\n",
    "   So you want to remove thor and hulk from list and replace them with doctor strange (because he is cool).\n",
    "   Do that with one line of code.\n",
    "* Sort the heros list in alphabetical order (Hint. Use dir() functions to list down all functions available in list)\n"
   ]
  },
  {
   "cell_type": "code",
   "execution_count": 24,
   "id": "2b2e57d0",
   "metadata": {},
   "outputs": [
    {
     "name": "stdout",
     "output_type": "stream",
     "text": [
      "In Feb, I spent $150 extra compared to January\n",
      "My total expense in first quarter (first three months) of the year = $7150\n",
      "Did I spend exactly $2000 in any month: False\n",
      "Monthly expense list: [2200, 2350, 2600, 1930, 2190, 1980]\n"
     ]
    }
   ],
   "source": [
    "expense = [2200, 2350, 2600, 2130, 2190]\n",
    "\n",
    "print(f\"In Feb, I spent ${expense[1] - expense[0]} extra compared to January\")\n",
    "print(f\"My total expense in first quarter (first three months) of the year = ${expense[0] + expense[1] + expense[2]}\")\n",
    "print(f\"Did I spend exactly $2000 in any month: {2000 in expense}\")\n",
    "expense.append(1980)\n",
    "april_refund = 200\n",
    "expense[3] = expense[3] - 200\n",
    "print(f\"Monthly expense list: {expense}\")"
   ]
  },
  {
   "cell_type": "code",
   "execution_count": 43,
   "id": "da6d1a45",
   "metadata": {
    "scrolled": true
   },
   "outputs": [
    {
     "name": "stdout",
     "output_type": "stream",
     "text": [
      "Length of the list: 5\n",
      "Unsorted list: ['spider man', 'doctor strange', 'black panther', 'iron man', 'captain america']\n",
      "**************************************************\n",
      "Functions in a list:\n",
      "['__add__', '__class__', '__class_getitem__', '__contains__', '__delattr__', '__delitem__', '__dir__', '__doc__', '__eq__', '__format__', '__ge__', '__getattribute__', '__getitem__', '__gt__', '__hash__', '__iadd__', '__imul__', '__init__', '__init_subclass__', '__iter__', '__le__', '__len__', '__lt__', '__mul__', '__ne__', '__new__', '__reduce__', '__reduce_ex__', '__repr__', '__reversed__', '__rmul__', '__setattr__', '__setitem__', '__sizeof__', '__str__', '__subclasshook__', 'append', 'clear', 'copy', 'count', 'extend', 'index', 'insert', 'pop', 'remove', 'reverse', 'sort']\n",
      "**************************************************\n",
      "Sorted list: ['black panther', 'captain america', 'doctor strange', 'iron man', 'spider man']\n"
     ]
    }
   ],
   "source": [
    "heros = ['spider man','thor','hulk','iron man','captain america']\n",
    "\n",
    "print(f\"Length of the list: {len(heros)}\")\n",
    "heros.append('black panther')\n",
    "heros.remove('black panther')\n",
    "heros.insert(3, 'black panther')\n",
    "del heros[1:3]\n",
    "heros.insert(1, 'doctor strange')\n",
    "print(f\"Unsorted list: {heros}\")\n",
    "print(\"*\"*50)\n",
    "print(f\"Functions in a list:\\n{dir(heros)}\")\n",
    "heros.sort()\n",
    "print(\"*\"*50)\n",
    "print(f\"Sorted list: {heros}\")"
   ]
  },
  {
   "cell_type": "markdown",
   "id": "4c4ffb27",
   "metadata": {},
   "source": [
    "## If Condition\n",
    "\n",
    "1. Using following list of cities per country,\n",
    "    india = [\"mumbai\", \"banglore\", \"chennai\", \"delhi\"]\n",
    "    pakistan = [\"lahore\",\"karachi\",\"islamabad\"]\n",
    "    bangladesh = [\"dhaka\", \"khulna\", \"rangpur\"]\n",
    "* Write a program that asks user to enter a city name and it should tell which country the city belongs to\n",
    "* Write a program that asks user to enter two cities and it tells you if they both are in same country or not. For example if I enter mumbai and chennai, it will print \"Both cities are in India\" but if I enter mumbai and dhaka it should print \"They don't belong to same country\"\n",
    "\n",
    "2. Write a python program that can tell you if your sugar is normal or not. Normal fasting level sugar range is 80 to 100.\n",
    "* Ask user to enter his fasting sugar level\n",
    "* If it is below 80 to 100 range then print that sugar is low\n",
    "* If it is above 100 then print that it is high otherwise print that it is normal"
   ]
  },
  {
   "cell_type": "code",
   "execution_count": 51,
   "id": "51b48453",
   "metadata": {},
   "outputs": [
    {
     "name": "stdout",
     "output_type": "stream",
     "text": [
      "Enter your sugar level: 50\n",
      "Your sugar level is low.\n"
     ]
    }
   ],
   "source": [
    "sugar_input = int(input(\"Enter your sugar level: \"))\n",
    "\n",
    "if sugar_input < 80:\n",
    "    print(\"Your sugar level is low.\")\n",
    "elif sugar_input > 100:\n",
    "    print(\"Your sugar level is high.\")\n",
    "else:\n",
    "    print(\"Your sugar level is normal.\")"
   ]
  },
  {
   "cell_type": "code",
   "execution_count": 58,
   "id": "4923fa4f",
   "metadata": {},
   "outputs": [],
   "source": [
    "india = [\"mumbai\", \"banglore\", \"chennai\", \"delhi\"] \n",
    "pakistan = [\"lahore\",\"karachi\",\"islamabad\"] \n",
    "bangladesh = [\"dhaka\", \"khulna\", \"rangpur\"]"
   ]
  },
  {
   "cell_type": "code",
   "execution_count": 60,
   "id": "d349049b",
   "metadata": {},
   "outputs": [
    {
     "name": "stdout",
     "output_type": "stream",
     "text": [
      "Enter a city: Islamabad\n",
      "islamabad is in pakistan.\n"
     ]
    }
   ],
   "source": [
    "city = input(\"Enter a city: \").lower()\n",
    "\n",
    "if city in india:\n",
    "    print(f\"{city} is in India.\")\n",
    "elif city in pakistan:\n",
    "    print(f\"{city} is in Pakistan.\")\n",
    "elif city in bangladesh:\n",
    "    print(f\"{city} is in Bangladesh.\")\n",
    "else:\n",
    "    print(f\"{city} is not recognized, please try again.\")"
   ]
  },
  {
   "cell_type": "code",
   "execution_count": 65,
   "id": "2e12ddd8",
   "metadata": {},
   "outputs": [
    {
     "name": "stdout",
     "output_type": "stream",
     "text": [
      "Enter the first city: rangpur\n",
      "Enter the second city: delhi\n",
      "They don't belong to same country.\n"
     ]
    }
   ],
   "source": [
    "city1 = input(\"Enter the first city: \").lower()\n",
    "city2 = input(\"Enter the second city: \").lower()\n",
    "\n",
    "if city1 in india and city2 in india:\n",
    "    print(\"Both cities are in India.\")\n",
    "elif city1 in pakistan and city2 in pakistan:\n",
    "    print(\"Both cities are in Pakistan.\")\n",
    "elif city1 in bangladesh and city2 in bangladesh:\n",
    "    print(\"Both cities are in Bangladesh.\")\n",
    "else:\n",
    "    print(\"They don't belong to same country.\")"
   ]
  }
 ],
 "metadata": {
  "kernelspec": {
   "display_name": "Python 3 (ipykernel)",
   "language": "python",
   "name": "python3"
  },
  "language_info": {
   "codemirror_mode": {
    "name": "ipython",
    "version": 3
   },
   "file_extension": ".py",
   "mimetype": "text/x-python",
   "name": "python",
   "nbconvert_exporter": "python",
   "pygments_lexer": "ipython3",
   "version": "3.9.13"
  }
 },
 "nbformat": 4,
 "nbformat_minor": 5
}
