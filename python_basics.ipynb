{
 "cells": [
  {
   "cell_type": "markdown",
   "id": "3369bd98",
   "metadata": {},
   "source": [
    "## Variables\n",
    "\n",
    "1. Create a variable called break and assign it a value 5. See what happens and find out the reason behind the behavior that you see.\n",
    "\n",
    "2. Create two variables. One to store your birth year and another one to store current year. Now calculate your age using these two variables\n",
    "\n",
    "3. Store your first, middle and last name in three different variables and then print your full name using these variables\n",
    "\n",
    "4. Answer which of these are invalid variable names: _nation 1record record1 record_one record-one record^one continue"
   ]
  },
  {
   "cell_type": "code",
   "execution_count": 1,
   "id": "aaea19af",
   "metadata": {},
   "outputs": [
    {
     "ename": "SyntaxError",
     "evalue": "invalid syntax (2709188746.py, line 1)",
     "output_type": "error",
     "traceback": [
      "\u001b[0;36m  File \u001b[0;32m\"/var/folders/ly/rf87jvlx4d93p4zbd_bs4l5c0000gn/T/ipykernel_35464/2709188746.py\"\u001b[0;36m, line \u001b[0;32m1\u001b[0m\n\u001b[0;31m    break = 5\u001b[0m\n\u001b[0m          ^\u001b[0m\n\u001b[0;31mSyntaxError\u001b[0m\u001b[0;31m:\u001b[0m invalid syntax\n"
     ]
    }
   ],
   "source": [
    "break = 5"
   ]
  },
  {
   "cell_type": "markdown",
   "id": "ccb4dd24",
   "metadata": {},
   "source": [
    "It gives a syntax error because ***break*** is a keyword in Python and cannot be used as a variable name."
   ]
  },
  {
   "cell_type": "code",
   "execution_count": 2,
   "id": "ccb21e43",
   "metadata": {},
   "outputs": [
    {
     "data": {
      "text/plain": [
       "24"
      ]
     },
     "execution_count": 2,
     "metadata": {},
     "output_type": "execute_result"
    }
   ],
   "source": [
    "birth_year = 1999\n",
    "current_year = 2023\n",
    "\n",
    "my_age = current_year - birth_year\n",
    "my_age"
   ]
  },
  {
   "cell_type": "code",
   "execution_count": 3,
   "id": "82aee645",
   "metadata": {},
   "outputs": [
    {
     "name": "stdout",
     "output_type": "stream",
     "text": [
      "My name is Glory Adenike Odeyemi.\n"
     ]
    }
   ],
   "source": [
    "first_name = \"Glory\"\n",
    "middle_name = \"Adenike\"\n",
    "last_name = \"Odeyemi\"\n",
    "\n",
    "print(\"My name is \" + first_name + \" \" + middle_name + \" \" + last_name + \".\")"
   ]
  },
  {
   "cell_type": "code",
   "execution_count": 4,
   "id": "fe9bee0b",
   "metadata": {},
   "outputs": [],
   "source": [
    "_nation = \"test\""
   ]
  },
  {
   "cell_type": "code",
   "execution_count": 5,
   "id": "ce4f1b73",
   "metadata": {},
   "outputs": [
    {
     "ename": "SyntaxError",
     "evalue": "invalid syntax (1379113486.py, line 1)",
     "output_type": "error",
     "traceback": [
      "\u001b[0;36m  File \u001b[0;32m\"/var/folders/ly/rf87jvlx4d93p4zbd_bs4l5c0000gn/T/ipykernel_35464/1379113486.py\"\u001b[0;36m, line \u001b[0;32m1\u001b[0m\n\u001b[0;31m    1record = \"test\"\u001b[0m\n\u001b[0m     ^\u001b[0m\n\u001b[0;31mSyntaxError\u001b[0m\u001b[0;31m:\u001b[0m invalid syntax\n"
     ]
    }
   ],
   "source": [
    "1record = \"test\""
   ]
  },
  {
   "cell_type": "code",
   "execution_count": 6,
   "id": "f7cb6a66",
   "metadata": {},
   "outputs": [],
   "source": [
    "record1 = \"test\""
   ]
  },
  {
   "cell_type": "code",
   "execution_count": 7,
   "id": "53dcb65a",
   "metadata": {},
   "outputs": [],
   "source": [
    "record_one = \"test\""
   ]
  },
  {
   "cell_type": "code",
   "execution_count": 8,
   "id": "6c04e08c",
   "metadata": {},
   "outputs": [
    {
     "ename": "SyntaxError",
     "evalue": "cannot assign to operator (3223843541.py, line 1)",
     "output_type": "error",
     "traceback": [
      "\u001b[0;36m  File \u001b[0;32m\"/var/folders/ly/rf87jvlx4d93p4zbd_bs4l5c0000gn/T/ipykernel_35464/3223843541.py\"\u001b[0;36m, line \u001b[0;32m1\u001b[0m\n\u001b[0;31m    record-one = \"test\"\u001b[0m\n\u001b[0m    ^\u001b[0m\n\u001b[0;31mSyntaxError\u001b[0m\u001b[0;31m:\u001b[0m cannot assign to operator\n"
     ]
    }
   ],
   "source": [
    "record-one = \"test\""
   ]
  },
  {
   "cell_type": "code",
   "execution_count": 9,
   "id": "b2dbb5f7",
   "metadata": {},
   "outputs": [
    {
     "ename": "SyntaxError",
     "evalue": "cannot assign to operator (921263059.py, line 1)",
     "output_type": "error",
     "traceback": [
      "\u001b[0;36m  File \u001b[0;32m\"/var/folders/ly/rf87jvlx4d93p4zbd_bs4l5c0000gn/T/ipykernel_35464/921263059.py\"\u001b[0;36m, line \u001b[0;32m1\u001b[0m\n\u001b[0;31m    record^one = \"test\"\u001b[0m\n\u001b[0m    ^\u001b[0m\n\u001b[0;31mSyntaxError\u001b[0m\u001b[0;31m:\u001b[0m cannot assign to operator\n"
     ]
    }
   ],
   "source": [
    "record^one = \"test\""
   ]
  },
  {
   "cell_type": "code",
   "execution_count": 10,
   "id": "bd09d6d8",
   "metadata": {},
   "outputs": [
    {
     "ename": "SyntaxError",
     "evalue": "invalid syntax (2114305636.py, line 1)",
     "output_type": "error",
     "traceback": [
      "\u001b[0;36m  File \u001b[0;32m\"/var/folders/ly/rf87jvlx4d93p4zbd_bs4l5c0000gn/T/ipykernel_35464/2114305636.py\"\u001b[0;36m, line \u001b[0;32m1\u001b[0m\n\u001b[0;31m    continue = \"test\"\u001b[0m\n\u001b[0m             ^\u001b[0m\n\u001b[0;31mSyntaxError\u001b[0m\u001b[0;31m:\u001b[0m invalid syntax\n"
     ]
    }
   ],
   "source": [
    "continue = \"test\""
   ]
  },
  {
   "cell_type": "markdown",
   "id": "2e303ac6",
   "metadata": {},
   "source": [
    "***_nation, record1, and record_one*** are valid variable names, while, ***1record, record-one, record^one, and continue*** are invalid."
   ]
  },
  {
   "cell_type": "markdown",
   "id": "f26a063a",
   "metadata": {},
   "source": [
    "## Numbers\n",
    "\n",
    "1. You have a football field that is 92 meter long and 48.8 meter wide. Find out total area using python and print it.\n",
    "2. You bought 9 packets of potato chips from a store. Each packet costs 1.49 dollar and you gave shopkeeper 20 dollar. Find out using python, how many dollars is the shopkeeper going to give you back?\n",
    "3. You want to replace tiles in your bathroom which is exactly square and 5.5 feet is its length. If tiles cost 500 rs per square feet, how much will be the total cost to replace all tiles. Calculate and print the cost using python (Hint: Use power operator ** to find area of a square)\n",
    "4. Print binary representation of number 17"
   ]
  },
  {
   "cell_type": "code",
   "execution_count": 15,
   "id": "50b1f113",
   "metadata": {},
   "outputs": [
    {
     "name": "stdout",
     "output_type": "stream",
     "text": [
      "The total area of the football field is 4489.599999999999.\n"
     ]
    }
   ],
   "source": [
    "length = 92\n",
    "width = 48.8\n",
    "\n",
    "print(f\"The total area of the football field is {length * width}.\")"
   ]
  },
  {
   "cell_type": "code",
   "execution_count": 19,
   "id": "96ecc014",
   "metadata": {},
   "outputs": [
    {
     "name": "stdout",
     "output_type": "stream",
     "text": [
      "Total cost of packet bought is $13.41 and the change from shopkeeper is $6.59.\n"
     ]
    }
   ],
   "source": [
    "num_of_packets = 9\n",
    "price_of_1_packet = 1.49\n",
    "total_amount_paid = 20\n",
    "\n",
    "total_cost = num_of_packets * price_of_1_packet\n",
    "\n",
    "print(f\"Total cost of packet bought is ${total_cost} and the change from shopkeeper is ${total_amount_paid - total_cost}.\")"
   ]
  },
  {
   "cell_type": "code",
   "execution_count": 22,
   "id": "e9475614",
   "metadata": {},
   "outputs": [
    {
     "name": "stdout",
     "output_type": "stream",
     "text": [
      "Area of bathroom tiles = 30.25\n",
      "Total cost to replace tiles = 15125.0 rs\n"
     ]
    }
   ],
   "source": [
    "length = 5.5\n",
    "area = length ** 2\n",
    "ind_cost = 500\n",
    "\n",
    "print(f\"Area of bathroom tiles = {area}\")\n",
    "print(f\"Total cost to replace tiles = {area * ind_cost} rs\")"
   ]
  },
  {
   "cell_type": "code",
   "execution_count": 23,
   "id": "a1bf5a4a",
   "metadata": {},
   "outputs": [
    {
     "name": "stdout",
     "output_type": "stream",
     "text": [
      "The binary representation of the number 17 is 0b10001.\n"
     ]
    }
   ],
   "source": [
    "print(f\"The binary representation of the number 17 is {bin(17)}.\")"
   ]
  },
  {
   "cell_type": "markdown",
   "id": "b4d4c083",
   "metadata": {},
   "source": [
    "## Strings\n",
    "\n",
    "1. Create 3 variables to store street, city and country, now create address variable to store entire address. Use two ways of creating this variable, one using + operator and the other using f-string. Now Print the address in such a way that the street, city and country prints in a separate line\n",
    "2. Create a variable to store the string \"Earth revolves around the sun\"\n",
    "* Print \"revolves\" using slice operator\n",
    "* Print \"sun\" using negative index\n",
    "3. Create two variables to store how many fruits and vegetables you eat in a day. Now Print \"I eat x veggies and y fruits daily\" where x and y presents vegetables and fruits that you eat everyday. Use python f string for this.\n",
    "4. I have a string variable called s='maine 200 banana khaye'. This of course is a wrong statement, the correct statement is 'maine 10 samosa khaye'. Replace incorrect words in original strong with new ones and print the new string. Also try to do this in one line."
   ]
  },
  {
   "cell_type": "code",
   "execution_count": 14,
   "id": "5c559d9a",
   "metadata": {},
   "outputs": [
    {
     "name": "stdout",
     "output_type": "stream",
     "text": [
      "123 Test street\n",
      "Lagos\n",
      "Nigeria\n",
      "---------------\n",
      "123 Test street\n",
      "Lagos\n",
      "Nigeria\n"
     ]
    }
   ],
   "source": [
    "street = \"123 Test street\"\n",
    "city = \"Lagos\"\n",
    "country = \"Nigeria\"\n",
    "\n",
    "address_concat = street + \"\\n\" + city + \"\\n\" + country\n",
    "address_f = f\"{street}\\n{city}\\n{country}\"\n",
    "\n",
    "print(address_concat)\n",
    "print(\"-\"*15)\n",
    "print(address_f)\n",
    "# print(\"-\"*32)\n",
    "# print(f\"Street: {street}\\nCity: {city}\\nCountry: {country}\")"
   ]
  },
  {
   "cell_type": "code",
   "execution_count": 8,
   "id": "d68b114c",
   "metadata": {},
   "outputs": [
    {
     "name": "stdout",
     "output_type": "stream",
     "text": [
      "revolves\n",
      "sun\n"
     ]
    }
   ],
   "source": [
    "text = \"Earth revolves around the sun\"\n",
    "\n",
    "print(text[6:14])\n",
    "print(text[-3:])"
   ]
  },
  {
   "cell_type": "code",
   "execution_count": 9,
   "id": "d4c3f4b4",
   "metadata": {},
   "outputs": [
    {
     "name": "stdout",
     "output_type": "stream",
     "text": [
      "I eat 0 veggies and 2 fruits daily\n"
     ]
    }
   ],
   "source": [
    "fruits = 2\n",
    "vegetables = 0\n",
    "\n",
    "print(f\"I eat {vegetables} veggies and {fruits} fruits daily\")"
   ]
  },
  {
   "cell_type": "code",
   "execution_count": 16,
   "id": "4bb3a805",
   "metadata": {},
   "outputs": [
    {
     "name": "stdout",
     "output_type": "stream",
     "text": [
      "maine 10 samosa khaye\n"
     ]
    }
   ],
   "source": [
    "s='maine 200 banana khaye'\n",
    "\n",
    "print(s.replace('200', '10').replace('banana', 'samosa'))"
   ]
  }
 ],
 "metadata": {
  "kernelspec": {
   "display_name": "Python 3 (ipykernel)",
   "language": "python",
   "name": "python3"
  },
  "language_info": {
   "codemirror_mode": {
    "name": "ipython",
    "version": 3
   },
   "file_extension": ".py",
   "mimetype": "text/x-python",
   "name": "python",
   "nbconvert_exporter": "python",
   "pygments_lexer": "ipython3",
   "version": "3.9.13"
  }
 },
 "nbformat": 4,
 "nbformat_minor": 5
}
