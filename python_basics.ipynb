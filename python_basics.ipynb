{
 "cells": [
  {
   "cell_type": "markdown",
   "id": "3e028175",
   "metadata": {},
   "source": [
    "## Variables\n",
    "\n",
    "1. Create a variable called break and assign it a value 5. See what happens and find out the reason behind the behavior that you see.\n",
    "\n",
    "2. Create two variables. One to store your birth year and another one to store current year. Now calculate your age using these two variables\n",
    "\n",
    "3. Store your first, middle and last name in three different variables and then print your full name using these variables\n",
    "\n",
    "4. Answer which of these are invalid variable names: _nation 1record record1 record_one record-one record^one continue"
   ]
  },
  {
   "cell_type": "code",
   "execution_count": 1,
   "id": "2d120efd",
   "metadata": {},
   "outputs": [
    {
     "ename": "SyntaxError",
     "evalue": "invalid syntax (2709188746.py, line 1)",
     "output_type": "error",
     "traceback": [
      "\u001b[0;36m  File \u001b[0;32m\"/var/folders/ly/rf87jvlx4d93p4zbd_bs4l5c0000gn/T/ipykernel_35464/2709188746.py\"\u001b[0;36m, line \u001b[0;32m1\u001b[0m\n\u001b[0;31m    break = 5\u001b[0m\n\u001b[0m          ^\u001b[0m\n\u001b[0;31mSyntaxError\u001b[0m\u001b[0;31m:\u001b[0m invalid syntax\n"
     ]
    }
   ],
   "source": [
    "break = 5"
   ]
  },
  {
   "cell_type": "markdown",
   "id": "7efa6ad8",
   "metadata": {},
   "source": [
    "It gives a syntax error because ***break*** is a keyword in Python and cannot be used as a variable name."
   ]
  },
  {
   "cell_type": "code",
   "execution_count": 2,
   "id": "0457a1c1",
   "metadata": {},
   "outputs": [
    {
     "data": {
      "text/plain": [
       "24"
      ]
     },
     "execution_count": 2,
     "metadata": {},
     "output_type": "execute_result"
    }
   ],
   "source": [
    "birth_year = 1999\n",
    "current_year = 2023\n",
    "\n",
    "my_age = current_year - birth_year\n",
    "my_age"
   ]
  },
  {
   "cell_type": "code",
   "execution_count": 3,
   "id": "b2bfc867",
   "metadata": {},
   "outputs": [
    {
     "name": "stdout",
     "output_type": "stream",
     "text": [
      "My name is Glory Adenike Odeyemi.\n"
     ]
    }
   ],
   "source": [
    "first_name = \"Glory\"\n",
    "middle_name = \"Adenike\"\n",
    "last_name = \"Odeyemi\"\n",
    "\n",
    "print(\"My name is \" + first_name + \" \" + middle_name + \" \" + last_name + \".\")"
   ]
  },
  {
   "cell_type": "code",
   "execution_count": 4,
   "id": "7699de50",
   "metadata": {},
   "outputs": [],
   "source": [
    "_nation = \"test\""
   ]
  },
  {
   "cell_type": "code",
   "execution_count": 5,
   "id": "d7953be3",
   "metadata": {},
   "outputs": [
    {
     "ename": "SyntaxError",
     "evalue": "invalid syntax (1379113486.py, line 1)",
     "output_type": "error",
     "traceback": [
      "\u001b[0;36m  File \u001b[0;32m\"/var/folders/ly/rf87jvlx4d93p4zbd_bs4l5c0000gn/T/ipykernel_35464/1379113486.py\"\u001b[0;36m, line \u001b[0;32m1\u001b[0m\n\u001b[0;31m    1record = \"test\"\u001b[0m\n\u001b[0m     ^\u001b[0m\n\u001b[0;31mSyntaxError\u001b[0m\u001b[0;31m:\u001b[0m invalid syntax\n"
     ]
    }
   ],
   "source": [
    "1record = \"test\""
   ]
  },
  {
   "cell_type": "code",
   "execution_count": 6,
   "id": "d6ee2f13",
   "metadata": {},
   "outputs": [],
   "source": [
    "record1 = \"test\""
   ]
  },
  {
   "cell_type": "code",
   "execution_count": 7,
   "id": "c6976b15",
   "metadata": {},
   "outputs": [],
   "source": [
    "record_one = \"test\""
   ]
  },
  {
   "cell_type": "code",
   "execution_count": 8,
   "id": "06fc8d24",
   "metadata": {},
   "outputs": [
    {
     "ename": "SyntaxError",
     "evalue": "cannot assign to operator (3223843541.py, line 1)",
     "output_type": "error",
     "traceback": [
      "\u001b[0;36m  File \u001b[0;32m\"/var/folders/ly/rf87jvlx4d93p4zbd_bs4l5c0000gn/T/ipykernel_35464/3223843541.py\"\u001b[0;36m, line \u001b[0;32m1\u001b[0m\n\u001b[0;31m    record-one = \"test\"\u001b[0m\n\u001b[0m    ^\u001b[0m\n\u001b[0;31mSyntaxError\u001b[0m\u001b[0;31m:\u001b[0m cannot assign to operator\n"
     ]
    }
   ],
   "source": [
    "record-one = \"test\""
   ]
  },
  {
   "cell_type": "code",
   "execution_count": 9,
   "id": "6dfac29d",
   "metadata": {},
   "outputs": [
    {
     "ename": "SyntaxError",
     "evalue": "cannot assign to operator (921263059.py, line 1)",
     "output_type": "error",
     "traceback": [
      "\u001b[0;36m  File \u001b[0;32m\"/var/folders/ly/rf87jvlx4d93p4zbd_bs4l5c0000gn/T/ipykernel_35464/921263059.py\"\u001b[0;36m, line \u001b[0;32m1\u001b[0m\n\u001b[0;31m    record^one = \"test\"\u001b[0m\n\u001b[0m    ^\u001b[0m\n\u001b[0;31mSyntaxError\u001b[0m\u001b[0;31m:\u001b[0m cannot assign to operator\n"
     ]
    }
   ],
   "source": [
    "record^one = \"test\""
   ]
  },
  {
   "cell_type": "code",
   "execution_count": 10,
   "id": "9f0c49c5",
   "metadata": {},
   "outputs": [
    {
     "ename": "SyntaxError",
     "evalue": "invalid syntax (2114305636.py, line 1)",
     "output_type": "error",
     "traceback": [
      "\u001b[0;36m  File \u001b[0;32m\"/var/folders/ly/rf87jvlx4d93p4zbd_bs4l5c0000gn/T/ipykernel_35464/2114305636.py\"\u001b[0;36m, line \u001b[0;32m1\u001b[0m\n\u001b[0;31m    continue = \"test\"\u001b[0m\n\u001b[0m             ^\u001b[0m\n\u001b[0;31mSyntaxError\u001b[0m\u001b[0;31m:\u001b[0m invalid syntax\n"
     ]
    }
   ],
   "source": [
    "continue = \"test\""
   ]
  },
  {
   "cell_type": "markdown",
   "id": "2a1e88b6",
   "metadata": {},
   "source": [
    "***_nation, record1, and record_one*** are valid variable names, while, ***1record, record-one, record^one, and continue*** are invalid."
   ]
  },
  {
   "cell_type": "markdown",
   "id": "9744195f",
   "metadata": {},
   "source": [
    "## Numbers\n",
    "\n",
    "1. You have a football field that is 92 meter long and 48.8 meter wide. Find out total area using python and print it.\n",
    "2. You bought 9 packets of potato chips from a store. Each packet costs 1.49 dollar and you gave shopkeeper 20 dollar. Find out using python, how many dollars is the shopkeeper going to give you back?\n",
    "3. You want to replace tiles in your bathroom which is exactly square and 5.5 feet is its length. If tiles cost 500 rs per square feet, how much will be the total cost to replace all tiles. Calculate and print the cost using python (Hint: Use power operator ** to find area of a square)\n",
    "4. Print binary representation of number 17"
   ]
  },
  {
   "cell_type": "code",
   "execution_count": 15,
   "id": "9a94b470",
   "metadata": {},
   "outputs": [
    {
     "name": "stdout",
     "output_type": "stream",
     "text": [
      "The total area of the football field is 4489.599999999999.\n"
     ]
    }
   ],
   "source": [
    "length = 92\n",
    "width = 48.8\n",
    "\n",
    "print(f\"The total area of the football field is {length * width}.\")"
   ]
  },
  {
   "cell_type": "code",
   "execution_count": 19,
   "id": "c8303753",
   "metadata": {},
   "outputs": [
    {
     "name": "stdout",
     "output_type": "stream",
     "text": [
      "Total cost of packet bought is $13.41 and the change from shopkeeper is $6.59.\n"
     ]
    }
   ],
   "source": [
    "num_of_packets = 9\n",
    "price_of_1_packet = 1.49\n",
    "total_amount_paid = 20\n",
    "\n",
    "total_cost = num_of_packets * price_of_1_packet\n",
    "\n",
    "print(f\"Total cost of packet bought is ${total_cost} and the change from shopkeeper is ${total_amount_paid - total_cost}.\")"
   ]
  },
  {
   "cell_type": "code",
   "execution_count": 22,
   "id": "fcd589f1",
   "metadata": {},
   "outputs": [
    {
     "name": "stdout",
     "output_type": "stream",
     "text": [
      "Area of bathroom tiles = 30.25\n",
      "Total cost to replace tiles = 15125.0 rs\n"
     ]
    }
   ],
   "source": [
    "length = 5.5\n",
    "area = length ** 2\n",
    "ind_cost = 500\n",
    "\n",
    "print(f\"Area of bathroom tiles = {area}\")\n",
    "print(f\"Total cost to replace tiles = {area * ind_cost} rs\")"
   ]
  },
  {
   "cell_type": "code",
   "execution_count": 23,
   "id": "7bdd0447",
   "metadata": {},
   "outputs": [
    {
     "name": "stdout",
     "output_type": "stream",
     "text": [
      "The binary representation of the number 17 is 0b10001.\n"
     ]
    }
   ],
   "source": [
    "print(f\"The binary representation of the number 17 is {bin(17)}.\")"
   ]
  }
 ],
 "metadata": {
  "kernelspec": {
   "display_name": "Python 3 (ipykernel)",
   "language": "python",
   "name": "python3"
  },
  "language_info": {
   "codemirror_mode": {
    "name": "ipython",
    "version": 3
   },
   "file_extension": ".py",
   "mimetype": "text/x-python",
   "name": "python",
   "nbconvert_exporter": "python",
   "pygments_lexer": "ipython3",
   "version": "3.9.13"
  }
 },
 "nbformat": 4,
 "nbformat_minor": 5
}
