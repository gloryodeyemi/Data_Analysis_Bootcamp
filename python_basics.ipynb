{
 "cells": [
  {
   "cell_type": "markdown",
   "id": "802ddff2",
   "metadata": {},
   "source": [
    "## Variables\n",
    "\n",
    "1. Create a variable called break and assign it a value 5. See what happens and find out the reason behind the behavior that you see.\n",
    "\n",
    "2. Create two variables. One to store your birth year and another one to store current year. Now calculate your age using these two variables\n",
    "\n",
    "3. Store your first, middle and last name in three different variables and then print your full name using these variables\n",
    "\n",
    "4. Answer which of these are invalid variable names: _nation 1record record1 record_one record-one record^one continue"
   ]
  },
  {
   "cell_type": "code",
   "execution_count": 1,
   "id": "81506c4e",
   "metadata": {},
   "outputs": [
    {
     "ename": "SyntaxError",
     "evalue": "invalid syntax (2709188746.py, line 1)",
     "output_type": "error",
     "traceback": [
      "\u001b[0;36m  File \u001b[0;32m\"/var/folders/ly/rf87jvlx4d93p4zbd_bs4l5c0000gn/T/ipykernel_35464/2709188746.py\"\u001b[0;36m, line \u001b[0;32m1\u001b[0m\n\u001b[0;31m    break = 5\u001b[0m\n\u001b[0m          ^\u001b[0m\n\u001b[0;31mSyntaxError\u001b[0m\u001b[0;31m:\u001b[0m invalid syntax\n"
     ]
    }
   ],
   "source": [
    "break = 5"
   ]
  },
  {
   "cell_type": "markdown",
   "id": "f834b165",
   "metadata": {},
   "source": [
    "It gives a syntax error because ***break*** is a keyword in Python and cannot be used as a variable name."
   ]
  },
  {
   "cell_type": "code",
   "execution_count": 2,
   "id": "e4d078e9",
   "metadata": {},
   "outputs": [
    {
     "data": {
      "text/plain": [
       "24"
      ]
     },
     "execution_count": 2,
     "metadata": {},
     "output_type": "execute_result"
    }
   ],
   "source": [
    "birth_year = 1999\n",
    "current_year = 2023\n",
    "\n",
    "my_age = current_year - birth_year\n",
    "my_age"
   ]
  },
  {
   "cell_type": "code",
   "execution_count": 3,
   "id": "cad9d8dc",
   "metadata": {},
   "outputs": [
    {
     "name": "stdout",
     "output_type": "stream",
     "text": [
      "My name is Glory Adenike Odeyemi.\n"
     ]
    }
   ],
   "source": [
    "first_name = \"Glory\"\n",
    "middle_name = \"Adenike\"\n",
    "last_name = \"Odeyemi\"\n",
    "\n",
    "print(\"My name is \" + first_name + \" \" + middle_name + \" \" + last_name + \".\")"
   ]
  },
  {
   "cell_type": "code",
   "execution_count": 4,
   "id": "13b397db",
   "metadata": {},
   "outputs": [],
   "source": [
    "_nation = \"test\""
   ]
  },
  {
   "cell_type": "code",
   "execution_count": 5,
   "id": "b68419d4",
   "metadata": {},
   "outputs": [
    {
     "ename": "SyntaxError",
     "evalue": "invalid syntax (1379113486.py, line 1)",
     "output_type": "error",
     "traceback": [
      "\u001b[0;36m  File \u001b[0;32m\"/var/folders/ly/rf87jvlx4d93p4zbd_bs4l5c0000gn/T/ipykernel_35464/1379113486.py\"\u001b[0;36m, line \u001b[0;32m1\u001b[0m\n\u001b[0;31m    1record = \"test\"\u001b[0m\n\u001b[0m     ^\u001b[0m\n\u001b[0;31mSyntaxError\u001b[0m\u001b[0;31m:\u001b[0m invalid syntax\n"
     ]
    }
   ],
   "source": [
    "1record = \"test\""
   ]
  },
  {
   "cell_type": "code",
   "execution_count": null,
   "id": "03db8179",
   "metadata": {},
   "outputs": [],
   "source": [
    "record1 = \"test\""
   ]
  },
  {
   "cell_type": "code",
   "execution_count": null,
   "id": "1e1c04e6",
   "metadata": {},
   "outputs": [],
   "source": [
    "record_one = \"test\""
   ]
  },
  {
   "cell_type": "code",
   "execution_count": null,
   "id": "adcd0cd8",
   "metadata": {},
   "outputs": [],
   "source": [
    "record-one = \"test\""
   ]
  },
  {
   "cell_type": "code",
   "execution_count": null,
   "id": "d320bdea",
   "metadata": {},
   "outputs": [],
   "source": [
    "record^one = \"test\""
   ]
  },
  {
   "cell_type": "code",
   "execution_count": null,
   "id": "a9c472b7",
   "metadata": {},
   "outputs": [],
   "source": [
    "continue = \"test\""
   ]
  },
  {
   "cell_type": "markdown",
   "id": "3ba343e4",
   "metadata": {},
   "source": [
    "***_nation, record1, and record_one*** are valid variable names, while, ***1record, record-one, record^one, and continue*** are invalid."
   ]
  }
 ],
 "metadata": {
  "kernelspec": {
   "display_name": "Python 3 (ipykernel)",
   "language": "python",
   "name": "python3"
  },
  "language_info": {
   "codemirror_mode": {
    "name": "ipython",
    "version": 3
   },
   "file_extension": ".py",
   "mimetype": "text/x-python",
   "name": "python",
   "nbconvert_exporter": "python",
   "pygments_lexer": "ipython3",
   "version": "3.9.13"
  }
 },
 "nbformat": 4,
 "nbformat_minor": 5
}
